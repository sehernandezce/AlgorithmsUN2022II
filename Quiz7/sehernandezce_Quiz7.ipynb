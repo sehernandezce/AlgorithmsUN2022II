{
  "nbformat": 4,
  "nbformat_minor": 0,
  "metadata": {
    "colab": {
      "provenance": [],
      "authorship_tag": "ABX9TyMV92RszdflgizvLUqiW4DK",
      "include_colab_link": true
    },
    "kernelspec": {
      "name": "python3",
      "display_name": "Python 3"
    },
    "language_info": {
      "name": "python"
    }
  },
  "cells": [
    {
      "cell_type": "markdown",
      "metadata": {
        "id": "view-in-github",
        "colab_type": "text"
      },
      "source": [
        "<a href=\"https://colab.research.google.com/github/sehernandezce/AlgorithmsUN2022II/blob/main/Quiz7/sehernandezce_Quiz7.ipynb\" target=\"_parent\"><img src=\"https://colab.research.google.com/assets/colab-badge.svg\" alt=\"Open In Colab\"/></a>"
      ]
    },
    {
      "cell_type": "markdown",
      "source": [
        "In Quantiacs Q18 Quick Start apply strategy two using best of quiz 6."
      ],
      "metadata": {
        "id": "HR715URcYZfT"
      }
    },
    {
      "cell_type": "code",
      "execution_count": 5,
      "metadata": {
        "id": "nTaJrUnMFH6d"
      },
      "outputs": [],
      "source": [
        "import numpy as np\n",
        "import pandas as pd\n",
        "import matplotlib as mpl\n",
        "import matplotlib.pyplot as plt"
      ]
    },
    {
      "cell_type": "markdown",
      "source": [
        "**At 6 months:**\n",
        "\n",
        "data = qndata.stocks.load_ndx_data(min_date=\"2021-09-01\")\n",
        "\n",
        "stats = qns.calc_stat(data, weights.sel(time=slice(\"2022-04-03\", None)))\n",
        "\n",
        "**At 12 months:**\n",
        "\n",
        "data = qndata.stocks.load_ndx_data(min_date=\"2019-09-01\")\n",
        "\n",
        "stats = qns.calc_stat(data, weights.sel(time=slice(\"2020-10-04\", None)))"
      ],
      "metadata": {
        "id": "izUl366dnW9y"
      }
    },
    {
      "cell_type": "code",
      "source": [
        "#DataFrame\n",
        "mydf = pd.DataFrame(columns = ['At # month','Sharpe Ratio'])\n",
        "mydf.name = \"\""
      ],
      "metadata": {
        "id": "3CNpdw6CF6AI"
      },
      "execution_count": 6,
      "outputs": []
    },
    {
      "cell_type": "code",
      "source": [
        "mydf.loc[len(mydf.index)] = ['6',-0.6391492921751977]\n",
        "mydf.loc[len(mydf.index)] = ['24',-0.23878194519333198]"
      ],
      "metadata": {
        "id": "G6xJtpkdpx1K"
      },
      "execution_count": 9,
      "outputs": []
    },
    {
      "cell_type": "code",
      "source": [
        "mydf.sort_values(by=['Sharpe Ratio'], inplace=True, ascending=False)\n",
        "mydf"
      ],
      "metadata": {
        "colab": {
          "base_uri": "https://localhost:8080/",
          "height": 112
        },
        "id": "5IsZRYd6ZloU",
        "outputId": "44371f79-08c2-45ba-97b0-537ace26bdcc"
      },
      "execution_count": 8,
      "outputs": [
        {
          "output_type": "execute_result",
          "data": {
            "text/plain": [
              "  At # month  Sharpe Ratio\n",
              "1         24     -0.238782\n",
              "0          6     -0.639149"
            ],
            "text/html": [
              "\n",
              "  <div id=\"df-79dd046d-ff81-4b5b-bb43-910df5f32bfa\">\n",
              "    <div class=\"colab-df-container\">\n",
              "      <div>\n",
              "<style scoped>\n",
              "    .dataframe tbody tr th:only-of-type {\n",
              "        vertical-align: middle;\n",
              "    }\n",
              "\n",
              "    .dataframe tbody tr th {\n",
              "        vertical-align: top;\n",
              "    }\n",
              "\n",
              "    .dataframe thead th {\n",
              "        text-align: right;\n",
              "    }\n",
              "</style>\n",
              "<table border=\"1\" class=\"dataframe\">\n",
              "  <thead>\n",
              "    <tr style=\"text-align: right;\">\n",
              "      <th></th>\n",
              "      <th>At # month</th>\n",
              "      <th>Sharpe Ratio</th>\n",
              "    </tr>\n",
              "  </thead>\n",
              "  <tbody>\n",
              "    <tr>\n",
              "      <th>1</th>\n",
              "      <td>24</td>\n",
              "      <td>-0.238782</td>\n",
              "    </tr>\n",
              "    <tr>\n",
              "      <th>0</th>\n",
              "      <td>6</td>\n",
              "      <td>-0.639149</td>\n",
              "    </tr>\n",
              "  </tbody>\n",
              "</table>\n",
              "</div>\n",
              "      <button class=\"colab-df-convert\" onclick=\"convertToInteractive('df-79dd046d-ff81-4b5b-bb43-910df5f32bfa')\"\n",
              "              title=\"Convert this dataframe to an interactive table.\"\n",
              "              style=\"display:none;\">\n",
              "        \n",
              "  <svg xmlns=\"http://www.w3.org/2000/svg\" height=\"24px\"viewBox=\"0 0 24 24\"\n",
              "       width=\"24px\">\n",
              "    <path d=\"M0 0h24v24H0V0z\" fill=\"none\"/>\n",
              "    <path d=\"M18.56 5.44l.94 2.06.94-2.06 2.06-.94-2.06-.94-.94-2.06-.94 2.06-2.06.94zm-11 1L8.5 8.5l.94-2.06 2.06-.94-2.06-.94L8.5 2.5l-.94 2.06-2.06.94zm10 10l.94 2.06.94-2.06 2.06-.94-2.06-.94-.94-2.06-.94 2.06-2.06.94z\"/><path d=\"M17.41 7.96l-1.37-1.37c-.4-.4-.92-.59-1.43-.59-.52 0-1.04.2-1.43.59L10.3 9.45l-7.72 7.72c-.78.78-.78 2.05 0 2.83L4 21.41c.39.39.9.59 1.41.59.51 0 1.02-.2 1.41-.59l7.78-7.78 2.81-2.81c.8-.78.8-2.07 0-2.86zM5.41 20L4 18.59l7.72-7.72 1.47 1.35L5.41 20z\"/>\n",
              "  </svg>\n",
              "      </button>\n",
              "      \n",
              "  <style>\n",
              "    .colab-df-container {\n",
              "      display:flex;\n",
              "      flex-wrap:wrap;\n",
              "      gap: 12px;\n",
              "    }\n",
              "\n",
              "    .colab-df-convert {\n",
              "      background-color: #E8F0FE;\n",
              "      border: none;\n",
              "      border-radius: 50%;\n",
              "      cursor: pointer;\n",
              "      display: none;\n",
              "      fill: #1967D2;\n",
              "      height: 32px;\n",
              "      padding: 0 0 0 0;\n",
              "      width: 32px;\n",
              "    }\n",
              "\n",
              "    .colab-df-convert:hover {\n",
              "      background-color: #E2EBFA;\n",
              "      box-shadow: 0px 1px 2px rgba(60, 64, 67, 0.3), 0px 1px 3px 1px rgba(60, 64, 67, 0.15);\n",
              "      fill: #174EA6;\n",
              "    }\n",
              "\n",
              "    [theme=dark] .colab-df-convert {\n",
              "      background-color: #3B4455;\n",
              "      fill: #D2E3FC;\n",
              "    }\n",
              "\n",
              "    [theme=dark] .colab-df-convert:hover {\n",
              "      background-color: #434B5C;\n",
              "      box-shadow: 0px 1px 3px 1px rgba(0, 0, 0, 0.15);\n",
              "      filter: drop-shadow(0px 1px 2px rgba(0, 0, 0, 0.3));\n",
              "      fill: #FFFFFF;\n",
              "    }\n",
              "  </style>\n",
              "\n",
              "      <script>\n",
              "        const buttonEl =\n",
              "          document.querySelector('#df-79dd046d-ff81-4b5b-bb43-910df5f32bfa button.colab-df-convert');\n",
              "        buttonEl.style.display =\n",
              "          google.colab.kernel.accessAllowed ? 'block' : 'none';\n",
              "\n",
              "        async function convertToInteractive(key) {\n",
              "          const element = document.querySelector('#df-79dd046d-ff81-4b5b-bb43-910df5f32bfa');\n",
              "          const dataTable =\n",
              "            await google.colab.kernel.invokeFunction('convertToInteractive',\n",
              "                                                     [key], {});\n",
              "          if (!dataTable) return;\n",
              "\n",
              "          const docLinkHtml = 'Like what you see? Visit the ' +\n",
              "            '<a target=\"_blank\" href=https://colab.research.google.com/notebooks/data_table.ipynb>data table notebook</a>'\n",
              "            + ' to learn more about interactive tables.';\n",
              "          element.innerHTML = '';\n",
              "          dataTable['output_type'] = 'display_data';\n",
              "          await google.colab.output.renderOutput(dataTable, element);\n",
              "          const docLink = document.createElement('div');\n",
              "          docLink.innerHTML = docLinkHtml;\n",
              "          element.appendChild(docLink);\n",
              "        }\n",
              "      </script>\n",
              "    </div>\n",
              "  </div>\n",
              "  "
            ]
          },
          "metadata": {},
          "execution_count": 8
        }
      ]
    },
    {
      "cell_type": "markdown",
      "source": [
        "For 6 months the data was used"
      ],
      "metadata": {
        "id": "3dxfVIVUY96b"
      }
    },
    {
      "cell_type": "markdown",
      "source": [
        "![image.png](data:image/png;base64,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)"
      ],
      "metadata": {
        "id": "kBghYtzgZHO7"
      }
    },
    {
      "cell_type": "markdown",
      "source": [
        "For 12 months the data was used"
      ],
      "metadata": {
        "id": "azNUVBuJZJkL"
      }
    },
    {
      "cell_type": "markdown",
      "source": [
        "![image.png](data:image/png;base64,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)"
      ],
      "metadata": {
        "id": "L8mbDIz7ZJoC"
      }
    }
  ]
}