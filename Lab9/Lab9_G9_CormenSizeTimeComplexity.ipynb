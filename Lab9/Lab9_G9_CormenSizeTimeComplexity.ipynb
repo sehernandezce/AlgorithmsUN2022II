{
  "nbformat": 4,
  "nbformat_minor": 0,
  "metadata": {
    "colab": {
      "provenance": [],
      "include_colab_link": true
    },
    "kernelspec": {
      "name": "python3",
      "display_name": "Python 3"
    },
    "language_info": {
      "name": "python"
    }
  },
  "cells": [
    {
      "cell_type": "markdown",
      "metadata": {
        "id": "view-in-github",
        "colab_type": "text"
      },
      "source": [
        "<a href=\"https://colab.research.google.com/github/sehernandezce/AlgorithmsUN2022II/blob/main/Lab9/Lab9_G9_CormenSizeTimeComplexity.ipynb\" target=\"_parent\"><img src=\"https://colab.research.google.com/assets/colab-badge.svg\" alt=\"Open In Colab\"/></a>"
      ]
    },
    {
      "cell_type": "markdown",
      "source": [
        "# **Group 9  - Lab 9**"
      ],
      "metadata": {
        "id": "Kx9nFN6QU-7E"
      }
    },
    {
      "cell_type": "markdown",
      "source": [
        "# **Members**\n",
        "\n",
        "\n",
        "\n",
        "1.   De La Torre Sanchez, Juan Manuel\n",
        "2.   Hernandez Ceron, Sebastian\n",
        "3.   Yepes Garcia, Brayan Sebastian"
      ],
      "metadata": {
        "id": "nVBl8KghU__V"
      }
    },
    {
      "cell_type": "markdown",
      "metadata": {
        "id": "yCCsCOW2OQbQ"
      },
      "source": [
        "# 1.(10  nanoseconds by instruction)\n",
        "\n",
        "Asuuming that you can execute a 100 million instructions $100 \\times 10^6$ every second, i.e. each instrcution takes 10 nanoseconds, 10 $\\eta s  = 10^{-8} s $. If you have algorithms take $\\bf{ Time\\ Complexity}$ steps to solve a poblem of size $n$ as specified in column one. What is the size of the largest porblem that you can solve in the time specified in row one?\n",
        "$$\n",
        "\\begin{array}{|c|c|c|c|c|c|c|c|} \n",
        " \\hline\n",
        " \\bf{ Time\\ Complexity} & Second  & Minute  & Hour & Day & Year & Century & Mileniun  \\\\ \n",
        "  \\hline\\\\ \n",
        "\\lg(n) &   2^{ 100\\times 10^6} & 2^{6\\times10^9}  & 2^{36\\times10^{10}} & 2^{864\\times10^{12}} &2^{31536\\times10^{11}}  & 2^{31536\\times10^{13}} & 2^{31536\\times10^{14}} \\\\\n",
        "   \\hline\\\\ \n",
        "\\lg^2(n) & 2^{10^4}    & 2^{77460\\times10^8}  & 2^{6\\times10^5} & 2^{29394\\times10^{10}} & 2^{56157\\times10^{11}} & 2^{56157\\times10^{12}}  &  2^{17758\\times10^{13}} \\\\ \n",
        "   \\hline\\\\ \n",
        "\\sqrt{n} & 10\\times10^3   & 6\\times10^{9}  & 36\\times10^{10} & 864\\times10^{10} & 31536\\times10^{11} & 31536\\times10^{13} & 31536\\times10^{14} \\\\ \n",
        " \\hline\n",
        " n &   100\\times 10^6 & 6\\times10^9  & 36\\times10^{10} & 864\\times10^{12} &31536\\times10^{11}  & 31536\\times10^{13} & 31536\\times10^{14} \\\\ \n",
        " \\hline\n",
        " n\\lg(n) & 45231\\times10^{2}   &  21767\\times10^{4} & 10800\\times10^{6}  & 22895\\times10^{5} & 68611\\times10^{9} & 60162\\times10^{11}  & 56665\\times10^{12} \\\\ \n",
        " \\hline\n",
        " n^2 &  10^{4}  &  77460\\times10^{1} & 6\\times10^{5} & 29394\\times10^{2} & 56157\\times10^{3} & 56157\\times10^{4} & 17758\\times10^{5} \\\\ \n",
        " \\hline\n",
        "  n^3 & 46.416\\times10^{1}  & 181.71\\times10^{1}  & 711.38\\times10^{1} & 2052\\times10^{1} & 1466.5\\times10^{1} & 6806.7\\times10^{1} & 14665\\times10^{2}  \\\\ \n",
        " \\hline\n",
        "  n^4 &1\\times10^{2} &27.832\\times10^{1}&77.460\\times10^{1}&171.45\\times10^{1}&749.38\\times10^{1}&2369.7\\times10^{1}&4214.1\\times10^{1}\\\\\n",
        " \\hline\n",
        "  2^n &2.6575\\times10^{1} & 3.2482\\times10^{1} & 3.8389\\times10^{1} & 4.2974\\times10^{1} & 5.1486\\times10^{1} & 5.8130\\times10^{1} & 6.1452\\times10^{1}  \\\\ \n",
        " \\hline\n",
        " n! & 1.1\\times10^{1} & 1.2\\times10^{1} & 1.4\\times10^{1} & 1.5\\times10^{1} & 1.7\\times10^{1} & 1.9\\times10^{1} & 2\\times10^{1}  \\\\ \n",
        " \\hline\n",
        " n^n & 8\\times^{0} & 9\\times^{0} & 1\\times10^{1} & 1.1\\times10^{1} & 1.3\\times10^{1} & 1.4\\times10^{1} & 1.5\\times10^{1}  \\\\ \n",
        " \\hline\n",
        "\\end{array}\n",
        "$$"
      ]
    }
  ]
}